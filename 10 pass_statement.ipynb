{
 "cells": [
  {
   "cell_type": "code",
   "execution_count": 4,
   "id": "de356537",
   "metadata": {},
   "outputs": [
    {
     "ename": "IndentationError",
     "evalue": "expected an indented block (Temp/ipykernel_5736/327217312.py, line 5)",
     "output_type": "error",
     "traceback": [
      "\u001b[1;36m  File \u001b[1;32m\"C:\\Users\\SAB367~1.N\\AppData\\Local\\Temp/ipykernel_5736/327217312.py\"\u001b[1;36m, line \u001b[1;32m5\u001b[0m\n\u001b[1;33m    #will do later\u001b[0m\n\u001b[1;37m                  ^\u001b[0m\n\u001b[1;31mIndentationError\u001b[0m\u001b[1;31m:\u001b[0m expected an indented block\n"
     ]
    }
   ],
   "source": [
    "'''pass is just a placeholder for\n",
    "functionality to be added later.'''\n",
    "sequence = {'p', 'a', 's', 's'}\n",
    "for val in sequence:\n",
    "    #will do later"
   ]
  },
  {
   "cell_type": "code",
   "execution_count": 5,
   "id": "5fe1651b",
   "metadata": {},
   "outputs": [],
   "source": [
    "'''pass is just a placeholder for\n",
    "functionality to be added later.'''\n",
    "sequence = {'p', 'a', 's', 's'}\n",
    "for val in sequence:\n",
    "    pass"
   ]
  },
  {
   "cell_type": "code",
   "execution_count": null,
   "id": "03664c8a",
   "metadata": {},
   "outputs": [],
   "source": []
  }
 ],
 "metadata": {
  "kernelspec": {
   "display_name": "Python 3 (ipykernel)",
   "language": "python",
   "name": "python3"
  },
  "language_info": {
   "codemirror_mode": {
    "name": "ipython",
    "version": 3
   },
   "file_extension": ".py",
   "mimetype": "text/x-python",
   "name": "python",
   "nbconvert_exporter": "python",
   "pygments_lexer": "ipython3",
   "version": "3.9.7"
  }
 },
 "nbformat": 4,
 "nbformat_minor": 5
}
